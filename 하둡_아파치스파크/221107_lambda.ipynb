{
  "nbformat": 4,
  "nbformat_minor": 0,
  "metadata": {
    "colab": {
      "provenance": []
    },
    "kernelspec": {
      "name": "python3",
      "display_name": "Python 3"
    },
    "language_info": {
      "name": "python"
    }
  },
  "cells": [
    {
      "cell_type": "markdown",
      "source": [
        "## lambda 함수 \n",
        "- 익명함수\n",
        "- 임시함수\n"
      ],
      "metadata": {
        "id": "Bhhiap6YqCfp"
      }
    },
    {
      "cell_type": "code",
      "execution_count": 19,
      "metadata": {
        "colab": {
          "base_uri": "https://localhost:8080/"
        },
        "id": "j8og5JPtqBy8",
        "outputId": "ec94c618-1d68-4193-c2d4-259547a29cc2"
      },
      "outputs": [
        {
          "output_type": "execute_result",
          "data": {
            "text/plain": [
              "20"
            ]
          },
          "metadata": {},
          "execution_count": 19
        }
      ],
      "source": [
        "def sum(a, b):\n",
        "   c=a+b\n",
        "   return c\n",
        "\n",
        "sum(10,10)"
      ]
    },
    {
      "cell_type": "markdown",
      "source": [],
      "metadata": {
        "id": "y9fwUKTGqjCw"
      }
    },
    {
      "cell_type": "markdown",
      "source": [
        "- 한줄로 처리\n",
        "ambda 매개변수 : 표현식"
      ],
      "metadata": {
        "id": "YgpMJrHRqYE6"
      }
    },
    {
      "cell_type": "code",
      "source": [
        "# 어떤 숫자가 들어와도 반드시 5를 더하는 함수\n",
        "def add_five(x):\n",
        "  y=x+5\n",
        "  return y\n",
        "\n",
        "add_five(100)"
      ],
      "metadata": {
        "colab": {
          "base_uri": "https://localhost:8080/"
        },
        "id": "BL7l2GzmqXdA",
        "outputId": "14154714-be2d-4bf9-a198-3d05e3fc8877"
      },
      "execution_count": 2,
      "outputs": [
        {
          "output_type": "execute_result",
          "data": {
            "text/plain": [
              "105"
            ]
          },
          "metadata": {},
          "execution_count": 2
        }
      ]
    },
    {
      "cell_type": "markdown",
      "source": [
        "- lambda"
      ],
      "metadata": {
        "id": "-AvcJIZ2q7TJ"
      }
    },
    {
      "cell_type": "code",
      "source": [
        "plus_five = lambda x : x + 5\n",
        "plus_five(10)"
      ],
      "metadata": {
        "colab": {
          "base_uri": "https://localhost:8080/"
        },
        "id": "aJf-HGvDq-DP",
        "outputId": "b7828b7c-53a6-42b8-8887-4c2425359a2f"
      },
      "execution_count": 5,
      "outputs": [
        {
          "output_type": "execute_result",
          "data": {
            "text/plain": [
              "15"
            ]
          },
          "metadata": {},
          "execution_count": 5
        }
      ]
    },
    {
      "cell_type": "code",
      "source": [
        "# 데이터.map(람다함수 식)\n",
        "# 람다 표현식 자체를 호출하기\n",
        "(lambda x : x+5)(100)"
      ],
      "metadata": {
        "colab": {
          "base_uri": "https://localhost:8080/"
        },
        "id": "v3bVbWw3rSNY",
        "outputId": "f365ee1a-50f9-4212-9aae-0e43c786387d"
      },
      "execution_count": 6,
      "outputs": [
        {
          "output_type": "execute_result",
          "data": {
            "text/plain": [
              "105"
            ]
          },
          "metadata": {},
          "execution_count": 6
        }
      ]
    },
    {
      "cell_type": "markdown",
      "source": [
        "- 매개변수가 2개일 때,"
      ],
      "metadata": {
        "id": "xrN_TmjZrpLI"
      }
    },
    {
      "cell_type": "code",
      "source": [
        "(lambda x, y : x + y)(10, 20)"
      ],
      "metadata": {
        "colab": {
          "base_uri": "https://localhost:8080/"
        },
        "id": "EwunAOIsq9pp",
        "outputId": "50e3ccb1-81f7-49ff-8878-90e599b5e6cc"
      },
      "execution_count": 7,
      "outputs": [
        {
          "output_type": "execute_result",
          "data": {
            "text/plain": [
              "30"
            ]
          },
          "metadata": {},
          "execution_count": 7
        }
      ]
    },
    {
      "cell_type": "markdown",
      "source": [
        "## 문제 1\n",
        "- 값이 여러개 있는 리스트를 정의\n",
        "- 각 값에 5를 더하고, 리스트로 반환"
      ],
      "metadata": {
        "id": "ta7pVCJEr63B"
      }
    },
    {
      "cell_type": "code",
      "source": [
        "num_values=[10,11,12]\n",
        "list(map(add_five, num_values))"
      ],
      "metadata": {
        "colab": {
          "base_uri": "https://localhost:8080/"
        },
        "id": "YhbMil-qsKGZ",
        "outputId": "01d431f0-47e6-4fed-bc1f-fbd4eeb7b82a"
      },
      "execution_count": 9,
      "outputs": [
        {
          "output_type": "execute_result",
          "data": {
            "text/plain": [
              "[15, 16, 17]"
            ]
          },
          "metadata": {},
          "execution_count": 9
        }
      ]
    },
    {
      "cell_type": "markdown",
      "source": [
        "- lambda를 활용"
      ],
      "metadata": {
        "id": "zayolZFHsnkZ"
      }
    },
    {
      "cell_type": "code",
      "source": [
        "list(map(lambda x:x+5, range(5)))"
      ],
      "metadata": {
        "colab": {
          "base_uri": "https://localhost:8080/"
        },
        "id": "3UKHTYj_splg",
        "outputId": "9dc6a916-2768-487d-b4da-00867736be79"
      },
      "execution_count": 14,
      "outputs": [
        {
          "output_type": "execute_result",
          "data": {
            "text/plain": [
              "[5, 6, 7, 8, 9]"
            ]
          },
          "metadata": {},
          "execution_count": 14
        }
      ]
    },
    {
      "cell_type": "markdown",
      "source": [
        "- filter() : 조건식을 통해 값을 필터링\n",
        "- 0~9 값 중에서, 5 미만만 출력"
      ],
      "metadata": {
        "id": "JgM6qwdQtNzK"
      }
    },
    {
      "cell_type": "markdown",
      "source": [],
      "metadata": {
        "id": "3OpP1TBNuCL5"
      }
    },
    {
      "cell_type": "code",
      "source": [
        "list(range(10))"
      ],
      "metadata": {
        "colab": {
          "base_uri": "https://localhost:8080/"
        },
        "id": "A-vjxbSXtd14",
        "outputId": "9673723f-75d6-4eac-c8bc-065596312d72"
      },
      "execution_count": 17,
      "outputs": [
        {
          "output_type": "execute_result",
          "data": {
            "text/plain": [
              "[0, 1, 2, 3, 4, 5, 6, 7, 8, 9]"
            ]
          },
          "metadata": {},
          "execution_count": 17
        }
      ]
    },
    {
      "cell_type": "code",
      "source": [
        "list(filter(lambda x:x<5, range(10)))"
      ],
      "metadata": {
        "colab": {
          "base_uri": "https://localhost:8080/"
        },
        "id": "dqO_oxJbtYep",
        "outputId": "e632d453-b586-468b-bfbe-ad050423be1b"
      },
      "execution_count": 15,
      "outputs": [
        {
          "output_type": "execute_result",
          "data": {
            "text/plain": [
              "[0, 1, 2, 3, 4]"
            ]
          },
          "metadata": {},
          "execution_count": 15
        }
      ]
    }
  ]
}