{
 "cells": [
  {
   "cell_type": "markdown",
   "id": "fb691973",
   "metadata": {},
   "source": [
    "## 라이브러리 불러오기\n",
    "- 버전 확인하자!"
   ]
  },
  {
   "cell_type": "code",
   "execution_count": 1,
   "id": "e09ddb79",
   "metadata": {},
   "outputs": [
    {
     "name": "stdout",
     "output_type": "stream",
     "text": [
      "3.2.0\n",
      "1.23.4\n",
      "1.5.1\n",
      "3.6.2\n",
      "0.12.1\n"
     ]
    }
   ],
   "source": [
    "import pyspark\n",
    "import numpy as np\n",
    "import pandas as pd \n",
    "import matplotlib as mpl\n",
    "import seaborn as sns\n",
    "\n",
    "print(pyspark.__version__)\n",
    "print(np.__version__)\n",
    "print(pd.__version__)\n",
    "print(mpl.__version__)\n",
    "print(sns.__version__)"
   ]
  },
  {
   "cell_type": "markdown",
   "id": "84e8165f",
   "metadata": {},
   "source": [
    "## 환경설정 필요\n",
    "- 참고 : https://spark.apache.org/docs/latest/configuration.html\n",
    "- 배워야 할 내용, 네트워크 구성부터 시작, 서버 설정 등등"
   ]
  },
  {
   "cell_type": "code",
   "execution_count": 2,
   "id": "cc71dd0a",
   "metadata": {},
   "outputs": [
    {
     "data": {
      "text/html": [
       "\n",
       "        <div>\n",
       "            <p><b>SparkContext</b></p>\n",
       "\n",
       "            <p><a href=\"http://172.30.66.134:4040\">Spark UI</a></p>\n",
       "\n",
       "            <dl>\n",
       "              <dt>Version</dt>\n",
       "                <dd><code>v3.2.0</code></dd>\n",
       "              <dt>Master</dt>\n",
       "                <dd><code>local[*]</code></dd>\n",
       "              <dt>AppName</dt>\n",
       "                <dd><code>PySparkShell</code></dd>\n",
       "            </dl>\n",
       "        </div>\n",
       "        "
      ],
      "text/plain": [
       "<SparkContext master=local[*] appName=PySparkShell>"
      ]
     },
     "execution_count": 2,
     "metadata": {},
     "output_type": "execute_result"
    }
   ],
   "source": [
    "sc"
   ]
  },
  {
   "cell_type": "markdown",
   "id": "bf8b0f73",
   "metadata": {},
   "source": [
    "## 현재 서버 사용자 이름 확인"
   ]
  },
  {
   "cell_type": "code",
   "execution_count": 3,
   "id": "40116ffb",
   "metadata": {},
   "outputs": [
    {
     "data": {
      "text/plain": [
       "'human'"
      ]
     },
     "execution_count": 3,
     "metadata": {},
     "output_type": "execute_result"
    }
   ],
   "source": [
    "import getpass\n",
    "username = getpass.getuser()\n",
    "username"
   ]
  },
  {
   "cell_type": "markdown",
   "id": "b3b1a0e9",
   "metadata": {},
   "source": [
    "## SparkSession\n",
    "- 클러스터에 진입 위한 것"
   ]
  },
  {
   "cell_type": "code",
   "execution_count": 4,
   "id": "88ab6feb",
   "metadata": {},
   "outputs": [
    {
     "name": "stdout",
     "output_type": "stream",
     "text": [
      "spark version: 3.2.0\n"
     ]
    }
   ],
   "source": [
    "print(\"spark version:\", sc.version)"
   ]
  },
  {
   "cell_type": "code",
   "execution_count": 5,
   "id": "9732920b",
   "metadata": {},
   "outputs": [
    {
     "name": "stdout",
     "output_type": "stream",
     "text": [
      "python verison: 3.8\n"
     ]
    }
   ],
   "source": [
    "print(\"python verison:\", sc.pythonVer)"
   ]
  },
  {
   "cell_type": "code",
   "execution_count": 6,
   "id": "1d9673fc",
   "metadata": {},
   "outputs": [
    {
     "name": "stdout",
     "output_type": "stream",
     "text": [
      "Spark Master Name: local[*]\n"
     ]
    }
   ],
   "source": [
    "print(\"Spark Master Name:\", sc.master)"
   ]
  },
  {
   "cell_type": "markdown",
   "id": "1d869c30",
   "metadata": {},
   "source": [
    "## lambda 함수\n",
    "- 사용자 정의 함수를 1회성으로 쓴다."
   ]
  },
  {
   "cell_type": "code",
   "execution_count": 11,
   "id": "7f8eee9a",
   "metadata": {},
   "outputs": [
    {
     "data": {
      "text/plain": [
       "[105, 106, 107, 108, 109]"
      ]
     },
     "execution_count": 11,
     "metadata": {},
     "output_type": "execute_result"
    }
   ],
   "source": [
    "list(map(lambda x : x + 105, range(5)))"
   ]
  },
  {
   "cell_type": "code",
   "execution_count": 12,
   "id": "bc585a5d",
   "metadata": {},
   "outputs": [],
   "source": [
    "sc.stop()"
   ]
  },
  {
   "cell_type": "markdown",
   "id": "4ab19ab8",
   "metadata": {},
   "source": [
    "## RDD\n",
    "- RDD를 배우자\n",
    "- 새로운 Spark 세션을 만들자."
   ]
  },
  {
   "cell_type": "code",
   "execution_count": 13,
   "id": "c5563386",
   "metadata": {},
   "outputs": [
    {
     "data": {
      "text/html": [
       "\n",
       "            <div>\n",
       "                <p><b>SparkSession - hive</b></p>\n",
       "                \n",
       "        <div>\n",
       "            <p><b>SparkContext</b></p>\n",
       "\n",
       "            <p><a href=\"http://172.30.66.134:4040\">Spark UI</a></p>\n",
       "\n",
       "            <dl>\n",
       "              <dt>Version</dt>\n",
       "                <dd><code>v3.2.0</code></dd>\n",
       "              <dt>Master</dt>\n",
       "                <dd><code>local[1]</code></dd>\n",
       "              <dt>AppName</dt>\n",
       "                <dd><code>my1stSpark</code></dd>\n",
       "            </dl>\n",
       "        </div>\n",
       "        \n",
       "            </div>\n",
       "        "
      ],
      "text/plain": [
       "<pyspark.sql.session.SparkSession at 0x7fa9bba82b50>"
      ]
     },
     "execution_count": 13,
     "metadata": {},
     "output_type": "execute_result"
    }
   ],
   "source": [
    "from pyspark.sql import SparkSession\n",
    "spark = SparkSession.builder.master(\"local[1]\").appName(\"my1stSpark\").getOrCreate()\n",
    "spark"
   ]
  },
  {
   "cell_type": "markdown",
   "id": "00998fe4",
   "metadata": {},
   "source": [
    "- RDD 객체를 생성하자.\n",
    "- 도움말 참조 : https://spark.apache.org/docs/latest/rdd-programming-guide.html"
   ]
  },
  {
   "cell_type": "code",
   "execution_count": 16,
   "id": "f1c323e9",
   "metadata": {},
   "outputs": [
    {
     "data": {
      "text/plain": [
       "[1, 2, 3, 4, 5]"
      ]
     },
     "execution_count": 16,
     "metadata": {},
     "output_type": "execute_result"
    }
   ],
   "source": [
    "data = [1,2,3,4,5]\n",
    "data"
   ]
  },
  {
   "cell_type": "code",
   "execution_count": 17,
   "id": "249ca73d",
   "metadata": {},
   "outputs": [
    {
     "name": "stdout",
     "output_type": "stream",
     "text": [
      "<class 'pyspark.rdd.RDD'>\n"
     ]
    }
   ],
   "source": [
    "data = [1,2,3,4,5]\n",
    "rdd = spark.sparkContext.parallelize(data)\n",
    "print(type(rdd))"
   ]
  },
  {
   "cell_type": "code",
   "execution_count": 20,
   "id": "13d36168",
   "metadata": {},
   "outputs": [
    {
     "name": "stdout",
     "output_type": "stream",
     "text": [
      "<class 'pyspark.rdd.PipelinedRDD'>\n"
     ]
    }
   ],
   "source": [
    "num_values = range(1, 101)\n",
    "rdd = spark.sparkContext.parallelize(num_values)\n",
    "print(type(rdd))"
   ]
  },
  {
   "cell_type": "code",
   "execution_count": 26,
   "id": "e53ffb5a",
   "metadata": {},
   "outputs": [
    {
     "name": "stdout",
     "output_type": "stream",
     "text": [
      "<class 'pyspark.rdd.RDD'>\n"
     ]
    }
   ],
   "source": [
    "np_num_values = np.array([1,2,3])\n",
    "rdd = spark.sparkContext.parallelize(np_num_values)\n",
    "print(type(rdd))"
   ]
  },
  {
   "cell_type": "code",
   "execution_count": 24,
   "id": "d6454787",
   "metadata": {},
   "outputs": [
    {
     "name": "stdout",
     "output_type": "stream",
     "text": [
      "<class 'pyspark.rdd.RDD'>\n"
     ]
    }
   ],
   "source": [
    "str_values = [\"A\",\"B\",\"C\"]\n",
    "rdd = spark.sparkContext.parallelize(str_values)\n",
    "print(type(rdd))"
   ]
  },
  {
   "cell_type": "markdown",
   "id": "9f6fa807",
   "metadata": {},
   "source": [
    "## 데이터 가져오기\n",
    "- README.md 파일을 가져오기"
   ]
  },
  {
   "cell_type": "code",
   "execution_count": 42,
   "id": "4f664e67",
   "metadata": {},
   "outputs": [
    {
     "name": "stdout",
     "output_type": "stream",
     "text": [
      "The File Type is <class 'pyspark.rdd.RDD'>\n",
      "The File Type is <class 'pyspark.rdd.PipelinedRDD'>\n",
      "PythonRDD[68] at RDD at PythonRDD.scala:53\n",
      "-------------------------------------------------------------\n",
      "19\n",
      "# Apache Spark\n",
      "Spark is a unified analytics engine for large-scale data processing. It provides\n",
      "rich set of higher-level tools including Spark SQL for SQL and DataFrames,\n",
      "[![PySpark Coverage](https://codecov.io/gh/apache/spark/branch/master/graph/badge.svg)](https://codecov.io/gh/apache/spark)\n"
     ]
    }
   ],
   "source": [
    "file_path = 'data/README.md'\n",
    "fileRDD = spark.sparkContext.textFile(file_path)\n",
    "print(\"The File Type is\", type(fileRDD))\n",
    "\n",
    "# Spark Transformation \n",
    "# filter Spark 글자만 출력한다.\n",
    "fileRDD_filter = fileRDD.filter(lambda line : 'Spark' in line)\n",
    "print(\"The File Type is\", type(fileRDD_filter))\n",
    "print(fileRDD_filter)\n",
    "\n",
    "print(\"-------------------------------------------------------------\")\n",
    "\n",
    "\n",
    "#Spark Action\n",
    "print(fileRDD_filter.count())\n",
    "for line in fileRDD_filter.take(4):\n",
    "    print(line)\n",
    "\n"
   ]
  },
  {
   "cell_type": "code",
   "execution_count": 58,
   "id": "efe276e1",
   "metadata": {},
   "outputs": [
    {
     "name": "stdout",
     "output_type": "stream",
     "text": [
      "0\n",
      "1\n",
      "8\n",
      "27\n",
      "64\n",
      "125\n",
      "216\n",
      "343\n",
      "512\n",
      "729\n"
     ]
    }
   ],
   "source": [
    "num_values = range(10)\n",
    "\n",
    "# RDD 생성\n",
    "num_values = spark.sparkContext.parallelize(num_values)\n",
    "\n",
    "\n",
    "#RDD 트랜스포메이션 생성\n",
    "# cubic_values = list(map(lambda x : x ** 3, range(10)))\n",
    "# cubic_values\n",
    "cubic_values =  num_values.map(lambda x : x ** 3)\n",
    "\n",
    "# #RDD 액션\n",
    "for num in cubic_values.collect():\n",
    "    print(num)\n",
    "\n",
    "\n",
    "\n"
   ]
  },
  {
   "cell_type": "markdown",
   "id": "51b79c7c",
   "metadata": {},
   "source": []
  },
  {
   "cell_type": "code",
   "execution_count": null,
   "id": "1a3d6f09",
   "metadata": {},
   "outputs": [],
   "source": []
  },
  {
   "cell_type": "code",
   "execution_count": null,
   "id": "3982a994",
   "metadata": {},
   "outputs": [],
   "source": []
  },
  {
   "cell_type": "code",
   "execution_count": null,
   "id": "25eae458",
   "metadata": {},
   "outputs": [],
   "source": []
  }
 ],
 "metadata": {
  "kernelspec": {
   "display_name": "Python 3 (ipykernel)",
   "language": "python",
   "name": "python3"
  },
  "language_info": {
   "codemirror_mode": {
    "name": "ipython",
    "version": 3
   },
   "file_extension": ".py",
   "mimetype": "text/x-python",
   "name": "python",
   "nbconvert_exporter": "python",
   "pygments_lexer": "ipython3",
   "version": "3.8.0"
  }
 },
 "nbformat": 4,
 "nbformat_minor": 5
}
