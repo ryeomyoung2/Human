{
  "nbformat": 4,
  "nbformat_minor": 0,
  "metadata": {
    "colab": {
      "provenance": []
    },
    "kernelspec": {
      "name": "python3",
      "display_name": "Python 3"
    },
    "language_info": {
      "name": "python"
    }
  },
  "cells": [
    {
      "cell_type": "code",
      "execution_count": 136,
      "metadata": {
        "id": "x2uAPPAIZ6u4"
      },
      "outputs": [],
      "source": [
        "#다항회귀는 데이터가 선형(직선)이 아닌 곡선으로 나타나는 경우 사용하는 회귀\n"
      ]
    },
    {
      "cell_type": "code",
      "source": [
        "# 다항에서의 항은 차수(degree)이며 x³-2x-4=0 과 같이 차수가 많다는 의미\n",
        "# 차수가 많을수록 기존의 모델보다 오차를 더 줄일 수 있다.\n",
        "\n",
        "#데이터 불러오기\n",
        "import pandas as pd\n",
        "\n",
        "df = pd.read_csv('https://bit.ly/perch_csv_data')\n",
        "perch_full = df.to_numpy()\n",
        "\n",
        "#농어의 길이 높이 너비 (train훈련용 데이터임)\n",
        "print('길이\\t높이\\t너비')\n",
        "print(perch_full)"
      ],
      "metadata": {
        "id": "tYu_pCXsaZ9s",
        "colab": {
          "base_uri": "https://localhost:8080/"
        },
        "outputId": "9d08b6e2-cf25-4344-dcc9-fed1013c90f1"
      },
      "execution_count": 137,
      "outputs": [
        {
          "output_type": "stream",
          "name": "stdout",
          "text": [
            "길이\t높이\t너비\n",
            "[[ 8.4   2.11  1.41]\n",
            " [13.7   3.53  2.  ]\n",
            " [15.    3.82  2.43]\n",
            " [16.2   4.59  2.63]\n",
            " [17.4   4.59  2.94]\n",
            " [18.    5.22  3.32]\n",
            " [18.7   5.2   3.12]\n",
            " [19.    5.64  3.05]\n",
            " [19.6   5.14  3.04]\n",
            " [20.    5.08  2.77]\n",
            " [21.    5.69  3.56]\n",
            " [21.    5.92  3.31]\n",
            " [21.    5.69  3.67]\n",
            " [21.3   6.38  3.53]\n",
            " [22.    6.11  3.41]\n",
            " [22.    5.64  3.52]\n",
            " [22.    6.11  3.52]\n",
            " [22.    5.88  3.52]\n",
            " [22.    5.52  4.  ]\n",
            " [22.5   5.86  3.62]\n",
            " [22.5   6.79  3.62]\n",
            " [22.7   5.95  3.63]\n",
            " [23.    5.22  3.63]\n",
            " [23.5   6.28  3.72]\n",
            " [24.    7.29  3.72]\n",
            " [24.    6.38  3.82]\n",
            " [24.6   6.73  4.17]\n",
            " [25.    6.44  3.68]\n",
            " [25.6   6.56  4.24]\n",
            " [26.5   7.17  4.14]\n",
            " [27.3   8.32  5.14]\n",
            " [27.5   7.17  4.34]\n",
            " [27.5   7.05  4.34]\n",
            " [27.5   7.28  4.57]\n",
            " [28.    7.82  4.2 ]\n",
            " [28.7   7.59  4.64]\n",
            " [30.    7.62  4.77]\n",
            " [32.8  10.03  6.02]\n",
            " [34.5  10.26  6.39]\n",
            " [35.   11.49  7.8 ]\n",
            " [36.5  10.88  6.86]\n",
            " [36.   10.61  6.74]\n",
            " [37.   10.84  6.26]\n",
            " [37.   10.57  6.37]\n",
            " [39.   11.14  7.49]\n",
            " [39.   11.14  6.  ]\n",
            " [39.   12.43  7.35]\n",
            " [40.   11.93  7.11]\n",
            " [40.   11.73  7.22]\n",
            " [40.   12.38  7.46]\n",
            " [40.   11.14  6.63]\n",
            " [42.   12.8   6.87]\n",
            " [43.   11.93  7.28]\n",
            " [43.   12.51  7.42]\n",
            " [43.5  12.6   8.14]\n",
            " [44.   12.49  7.6 ]]\n"
          ]
        }
      ]
    },
    {
      "cell_type": "code",
      "source": [
        "import numpy as np\n",
        "\n",
        "#농어의 무게(target데이터용)\n",
        "perch_weight = np.array(\n",
        "    [5.9, 32.0, 40.0, 51.5, 70.0, 100.0, 78.0, 80.0, 85.0, 85.0, \n",
        "     110.0, 115.0, 125.0, 130.0, 120.0, 120.0, 130.0, 135.0, 110.0, \n",
        "     130.0, 150.0, 145.0, 150.0, 170.0, 225.0, 145.0, 188.0, 180.0, \n",
        "     197.0, 218.0, 300.0, 260.0, 265.0, 250.0, 250.0, 300.0, 320.0, \n",
        "     514.0, 556.0, 840.0, 685.0, 700.0, 700.0, 690.0, 900.0, 650.0, \n",
        "     820.0, 850.0, 900.0, 1015.0, 820.0, 1100.0, 1000.0, 1100.0, \n",
        "     1000.0, 1000.0])"
      ],
      "metadata": {
        "id": "U8zoGaMwehwy"
      },
      "execution_count": 138,
      "outputs": []
    },
    {
      "cell_type": "code",
      "source": [
        "from sklearn.model_selection import train_test_split\n",
        "\n",
        "# 훈련 세트와 테스트 세트로 나누기 (80:20비율로)\n",
        "train_input, test_input, train_target, test_target = train_test_split(\n",
        "    perch_full, perch_weight, test_size=0.2, random_state=42)\n",
        "\n",
        "train_input.shape, test_input.shape, train_target.shape, test_target.shape"
      ],
      "metadata": {
        "colab": {
          "base_uri": "https://localhost:8080/"
        },
        "id": "GT4iHmhqfETU",
        "outputId": "8935b577-7319-43b1-c606-87d830c0eb42"
      },
      "execution_count": 139,
      "outputs": [
        {
          "output_type": "execute_result",
          "data": {
            "text/plain": [
              "((44, 3), (12, 3), (44,), (12,))"
            ]
          },
          "metadata": {},
          "execution_count": 139
        }
      ]
    },
    {
      "cell_type": "code",
      "source": [
        "\n",
        "#해당 데이터를 다항으로 나타내기위해 클래스 임포트\n",
        "\n",
        "from sklearn.preprocessing import PolynomialFeatures\n",
        "\n",
        "# PolynomialFeatures 클래스의 이해를 위한 예시\n",
        "poly = PolynomialFeatures()\n",
        "poly.fit([[2, 3]])\n",
        "\n",
        "print(poly.transform([[2, 3]]))"
      ],
      "metadata": {
        "colab": {
          "base_uri": "https://localhost:8080/"
        },
        "id": "RAVI7T3GfiUi",
        "outputId": "de5c4b34-f539-41f8-fd7a-159f1ec53309"
      },
      "execution_count": 140,
      "outputs": [
        {
          "output_type": "stream",
          "name": "stdout",
          "text": [
            "[[1. 2. 3. 4. 6. 9.]]\n"
          ]
        }
      ]
    },
    {
      "cell_type": "code",
      "source": [
        "poly = PolynomialFeatures(degree=3, include_bias=False)\n",
        "poly.fit([[2, 3]])\n",
        "\n",
        "print(poly.transform([[2, 3]]))"
      ],
      "metadata": {
        "colab": {
          "base_uri": "https://localhost:8080/"
        },
        "id": "4eHRLqQlSYFK",
        "outputId": "1da3b3c2-2566-4478-d344-97e4503c11a8"
      },
      "execution_count": 141,
      "outputs": [
        {
          "output_type": "stream",
          "name": "stdout",
          "text": [
            "[[ 2.  3.  4.  6.  9.  8. 12. 18. 27.]]\n"
          ]
        }
      ]
    },
    {
      "cell_type": "code",
      "source": [
        "#PolynomailFeatures() 를 적용하기 전의 데이터 형태\n",
        "print(\"Not poly train data : {} / Not poly test data : {}\".format(train_input.shape, test_input.shape))\n",
        "\n",
        "poly = PolynomialFeatures(include_bias=False)\n",
        "\n",
        "train_poly = poly.fit_transform(train_input)\n",
        "test_poly = poly.transform(test_input)\n",
        "\n",
        "#PolynomialFeatures() 를 적용한 후의 데이터 형태\n",
        "print(\"Poly train data : {} / Poly test data : {}\\n\".format(train_poly.shape, test_poly.shape))"
      ],
      "metadata": {
        "colab": {
          "base_uri": "https://localhost:8080/"
        },
        "id": "-F8ODuCFTClh",
        "outputId": "21b53d75-3b30-46f5-b544-4a7261a628d8"
      },
      "execution_count": 142,
      "outputs": [
        {
          "output_type": "stream",
          "name": "stdout",
          "text": [
            "Not poly train data : (44, 3) / Not poly test data : (12, 3)\n",
            "Poly train data : (44, 9) / Poly test data : (12, 9)\n",
            "\n"
          ]
        }
      ]
    },
    {
      "cell_type": "code",
      "source": [
        "#Polynomial data shape\n",
        "poly.get_feature_names()\n"
      ],
      "metadata": {
        "colab": {
          "base_uri": "https://localhost:8080/"
        },
        "id": "EN7hf9t6TCjZ",
        "outputId": "9d8ef622-baf1-4032-eec7-5ea93cfb9df3"
      },
      "execution_count": 143,
      "outputs": [
        {
          "output_type": "stream",
          "name": "stderr",
          "text": [
            "/usr/local/lib/python3.7/dist-packages/sklearn/utils/deprecation.py:87: FutureWarning: Function get_feature_names is deprecated; get_feature_names is deprecated in 1.0 and will be removed in 1.2. Please use get_feature_names_out instead.\n",
            "  warnings.warn(msg, category=FutureWarning)\n"
          ]
        },
        {
          "output_type": "execute_result",
          "data": {
            "text/plain": [
              "['x0', 'x1', 'x2', 'x0^2', 'x0 x1', 'x0 x2', 'x1^2', 'x1 x2', 'x2^2']"
            ]
          },
          "metadata": {},
          "execution_count": 143
        }
      ]
    },
    {
      "cell_type": "code",
      "source": [
        "from sklearn.linear_model import LinearRegression\n",
        "\n",
        "lr = LinearRegression()\n",
        "lr.fit(train_poly, train_target)\n",
        "\n",
        "#훈련 데이터의 정확도\n",
        "print(lr.score(train_poly, train_target))\n",
        "#테스트 데이터의 정확도\n",
        "print(lr.score(test_poly, test_target))\n",
        "\n",
        "# 두 데이터 모두 정확도가 상승하였고 \n",
        "#과대적합도 해결되었음"
      ],
      "metadata": {
        "colab": {
          "base_uri": "https://localhost:8080/"
        },
        "id": "VltMO_K8UmlB",
        "outputId": "e52d3cd3-6bf1-4111-91bc-b9d0d34b9d1e"
      },
      "execution_count": 144,
      "outputs": [
        {
          "output_type": "stream",
          "name": "stdout",
          "text": [
            "0.9900974417605038\n",
            "0.9766805886149335\n"
          ]
        }
      ]
    },
    {
      "cell_type": "markdown",
      "source": [
        "여기서 degree(차수)를 5로 변경하면?"
      ],
      "metadata": {
        "id": "HytTd6hqVbGJ"
      }
    },
    {
      "cell_type": "code",
      "source": [
        "poly = PolynomialFeatures(degree=5, include_bias=False)\n",
        "train_poly = poly.fit_transform(train_input)\n",
        "test_poly = poly.transform(test_input)\n",
        "\n",
        "lr.fit(train_poly, train_target)\n",
        "\n",
        "#훈련 데이터의 정확도\n",
        "print(lr.score(train_poly, train_target))\n",
        "#테스트 데이터의 정확도\n",
        "print(lr.score(test_poly, test_target))\n",
        "\n",
        "#보다시피 특성의 개수가 과도하게 많아졌기때문에 \n",
        "#테스트데이터가 비정상으로 나왔음"
      ],
      "metadata": {
        "colab": {
          "base_uri": "https://localhost:8080/"
        },
        "id": "Uhi-RuTgYSrx",
        "outputId": "41f72c93-c381-4b88-97e7-b14c5a30e40e"
      },
      "execution_count": 145,
      "outputs": [
        {
          "output_type": "stream",
          "name": "stdout",
          "text": [
            "0.9999999999218725\n",
            "-167.27001654442154\n"
          ]
        }
      ]
    },
    {
      "cell_type": "code",
      "source": [
        "#이러한 문제는 규제(Regulation)을 통해서 해결해야 한다.\n",
        "#사이킷런(sklearn)은 선형회귀에서 이런 상황을 해결 할 수 있는 \n",
        "#규제 클래스인 Ridge와 Lasso를 제공한다.\n",
        "from sklearn.preprocessing import StandardScaler\n",
        "\n",
        "#데이터 전처리-표준화\n",
        "#서로 다른 단위를 표준화시켜줌으로써 정확도를 더 높일 수 있다.\n",
        "#기본 스케일러, 평균과 표준편차를 사용\n",
        "ss = StandardScaler()\n",
        "ss.fit(train_poly)\n",
        "\n",
        "train_scaled = ss.transform(train_poly)\n",
        "test_scaled = ss.transform(test_poly)"
      ],
      "metadata": {
        "id": "o91iDCmsYxHt"
      },
      "execution_count": 146,
      "outputs": []
    },
    {
      "cell_type": "markdown",
      "source": [],
      "metadata": {
        "id": "vuT7jBN6a8vP"
      }
    },
    {
      "cell_type": "code",
      "source": [
        "#릿지\n",
        "from sklearn.linear_model import Ridge\n",
        "\n",
        "#릿지\n",
        "ridge = Ridge()\n",
        "ridge.fit(train_scaled, train_target)\n",
        "\n",
        "#훈련 데이터의 정확도\n",
        "print(ridge.score(train_scaled, train_target))\n",
        "#테스트 데이터의 정확도\n",
        "print(ridge.score(test_scaled, test_target))\n",
        "\n",
        "#마이너스던 테스트셋 정확도가 개선되었다."
      ],
      "metadata": {
        "colab": {
          "base_uri": "https://localhost:8080/"
        },
        "id": "RZJazqlmbUKY",
        "outputId": "87edb2f3-17d1-4d89-91e2-8eced32d7eee"
      },
      "execution_count": 147,
      "outputs": [
        {
          "output_type": "stream",
          "name": "stdout",
          "text": [
            "0.9896004835191297\n",
            "0.978920058325178\n"
          ]
        }
      ]
    },
    {
      "cell_type": "code",
      "source": [
        "#릿지에서는 하이퍼파라미터를 통해 alpha라는 매개변수 값을 조절 가능하다.\n",
        "import matplotlib.pyplot as plt\n",
        "\n",
        "train_score = []\n",
        "test_score = []\n",
        "\n",
        "alpha_list = [0.001, 0.01, 0.1, 1, 10, 100]\n",
        "for alpha in alpha_list:\n",
        "    # 릿지 모델을 만듭니다\n",
        "    ridge = Ridge(alpha=alpha)\n",
        "    # 릿지 모델을 훈련합니다\n",
        "    ridge.fit(train_scaled, train_target)\n",
        "    # 훈련 점수와 테스트 점수를 저장합니다\n",
        "    train_score.append(ridge.score(train_scaled, train_target))\n",
        "    test_score.append(ridge.score(test_scaled, test_target))\n",
        " "
      ],
      "metadata": {
        "id": "QGmiClC4b1jv"
      },
      "execution_count": 148,
      "outputs": []
    },
    {
      "cell_type": "code",
      "source": [],
      "metadata": {
        "id": "03PZFcCugFnm"
      },
      "execution_count": null,
      "outputs": []
    },
    {
      "cell_type": "code",
      "source": [
        "\n",
        "plt.plot(np.log10(alpha_list), train_score)\n",
        "plt.plot(np.log10(alpha_list), test_score)\n",
        "plt.xlabel('alpha')\n",
        "plt.ylabel('R^2')\n",
        "plt.show()\n",
        "\n",
        "#알파값이 -1에 가까울때 정확도가 높다는 뜻\n",
        "# 즉 10^-1은 0.1"
      ],
      "metadata": {
        "colab": {
          "base_uri": "https://localhost:8080/",
          "height": 279
        },
        "id": "7piD8m3Ccd5W",
        "outputId": "ab25acf0-87dd-4d1c-8b14-9280b862772b"
      },
      "execution_count": 153,
      "outputs": [
        {
          "output_type": "display_data",
          "data": {
            "text/plain": [
              "<Figure size 432x288 with 1 Axes>"
            ],
            "image/png": "[encoded data removed]"
          },
          "metadata": {
            "needs_background": "light"
          }
        }
      ]
    },
    {
      "cell_type": "code",
      "source": [
        "ridge = Ridge(alpha = 0.1)\n",
        "ridge.fit(train_scaled, train_target)\n",
        "print(ridge.score(train_scaled, train_target))\n",
        "print(ridge.score(test_scaled, test_target))"
      ],
      "metadata": {
        "colab": {
          "base_uri": "https://localhost:8080/"
        },
        "id": "QtovbLwPhVsV",
        "outputId": "47565dc1-39b0-4c9f-c98c-3003733b7e08"
      },
      "execution_count": 154,
      "outputs": [
        {
          "output_type": "stream",
          "name": "stdout",
          "text": [
            "0.9904101980758973\n",
            "0.9829550564532439\n"
          ]
        }
      ]
    },
    {
      "cell_type": "code",
      "source": [
        "from sklearn.linear_model import Lasso \n",
        "\n",
        "train_score = []\n",
        "test_score = []\n",
        "\n",
        "alpha_values = [0.001, 0.01, 0.1, 1, 10, 100]\n",
        "for alpha in alpha_values:\n",
        "\n",
        "    # 라쏘 모델을 만듭니다\n",
        "    lasso = Lasso(alpha=alpha)\n",
        "\n",
        "    # 라쏘 모델을 훈련합니다\n",
        "    lasso.fit(train_scaled, train_target)\n",
        "\n",
        "    # 훈련 점수와 테스트 점수를 저장합니다\n",
        "    train_score.append(lasso.score(train_scaled, train_target))\n",
        "    test_score.append(lasso.score(test_scaled, test_target))\n",
        "\n",
        "fig, ax = plt.subplots(figsize=(10, 6))\n",
        "ax.plot(np.log10(alpha_values), train_score)\n",
        "ax.plot(np.log10(alpha_values), test_score)\n",
        "ax.set_xlabel('alpha') # 라쏘회귀 규제의 강도\n",
        "ax.set_ylabel('R^2') # 결정계수\n",
        "plt.show()"
      ],
      "metadata": {
        "colab": {
          "base_uri": "https://localhost:8080/",
          "height": 518
        },
        "id": "H-uZHs4sfhoO",
        "outputId": "c6a32e17-ad49-44c3-dbbb-81b0f03145e4"
      },
      "execution_count": 155,
      "outputs": [
        {
          "output_type": "stream",
          "name": "stderr",
          "text": [
            "/usr/local/lib/python3.7/dist-packages/sklearn/linear_model/_coordinate_descent.py:648: ConvergenceWarning: Objective did not converge. You might want to increase the number of iterations, check the scale of the features or consider increasing regularisation. Duality gap: 2.347e+04, tolerance: 5.214e+02\n",
            "  coef_, l1_reg, l2_reg, X, y, max_iter, tol, rng, random, positive\n",
            "/usr/local/lib/python3.7/dist-packages/sklearn/linear_model/_coordinate_descent.py:648: ConvergenceWarning: Objective did not converge. You might want to increase the number of iterations, check the scale of the features or consider increasing regularisation. Duality gap: 2.032e+04, tolerance: 5.214e+02\n",
            "  coef_, l1_reg, l2_reg, X, y, max_iter, tol, rng, random, positive\n",
            "/usr/local/lib/python3.7/dist-packages/sklearn/linear_model/_coordinate_descent.py:648: ConvergenceWarning: Objective did not converge. You might want to increase the number of iterations, check the scale of the features or consider increasing regularisation. Duality gap: 9.202e+02, tolerance: 5.214e+02\n",
            "  coef_, l1_reg, l2_reg, X, y, max_iter, tol, rng, random, positive\n"
          ]
        },
        {
          "output_type": "display_data",
          "data": {
            "text/plain": [
              "<Figure size 720x432 with 1 Axes>"
            ],
            "image/png": "[encoded data removed]"
          },
          "metadata": {
            "needs_background": "light"
          }
        }
      ]
    },
    {
      "cell_type": "code",
      "source": [
        "#10^1은 10이므로 알파값에 10을 넣어주면 가장 최적의 결과가 나옴\n",
        "lasso = Lasso(alpha=10)\n",
        "lasso.fit(train_scaled, train_target)\n",
        "\n",
        "print(lasso.score(train_scaled, train_target))\n",
        "print(lasso.score(test_scaled, test_target))\n",
        "#보다시피 훈련셋이랑 테스트셋의 차이가 거의 없다"
      ],
      "metadata": {
        "colab": {
          "base_uri": "https://localhost:8080/"
        },
        "id": "ExWE_XFgiBWt",
        "outputId": "824cfe69-9065-406c-9101-d012986656e3"
      },
      "execution_count": 157,
      "outputs": [
        {
          "output_type": "stream",
          "name": "stdout",
          "text": [
            "0.9887275726909217\n",
            "0.9825903205582611\n"
          ]
        }
      ]
    }
  ]
}