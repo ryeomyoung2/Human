{
  "nbformat": 4,
  "nbformat_minor": 0,
  "metadata": {
    "colab": {
      "provenance": []
    },
    "kernelspec": {
      "name": "python3",
      "display_name": "Python 3"
    },
    "language_info": {
      "name": "python"
    }
  },
  "cells": [
    {
      "cell_type": "markdown",
      "source": [
        "## 생선 분류 문제\n",
        "- 도미, 빙어"
      ],
      "metadata": {
        "id": "U2DH4RUtrnF_"
      }
    },
    {
      "cell_type": "code",
      "execution_count": 1,
      "metadata": {
        "id": "izUgdgbUrfcQ"
      },
      "outputs": [],
      "source": [
        "# 도미\n",
        "bream_length = [25.4, 26.3, 26.5, 29.0, 29.0, 29.7, 29.7, 30.0, 30.0, 30.7, 31.0, 31.0, 31.5, 32.0, 32.0, 32.0, 33.0, 33.0, 33.5, 33.5, 34.0, 34.0, 34.5, 35.0, 35.0, 35.0, 35.0, 36.0, 36.0, 37.0, 38.5, 38.5, 39.5, 41.0, 41.0]\n",
        "bream_weight = [242.0, 290.0, 340.0, 363.0, 430.0, 450.0, 500.0, 390.0, 450.0, 500.0, 475.0, 500.0, 500.0, 340.0, 600.0, 600.0, 700.0, 700.0, 610.0, 650.0, 575.0, 685.0, 620.0, 680.0, 700.0, 725.0, 720.0, 714.0, 850.0, 1000.0, 920.0, 955.0, 925.0, 975.0, 950.0]\n",
        "\n",
        "# 빙어\n",
        "smelt_length = [9.8, 10.5, 10.6, 11.0, 11.2, 11.3, 11.8, 11.8, 12.0, 12.2, 12.4, 13.0, 14.3, 15.0]\n",
        "smelt_weight = [6.7, 7.5, 7.0, 9.7, 9.8, 8.7, 10.0, 9.9, 9.8, 12.2, 13.4, 12.2, 19.7, 19.9]"
      ]
    },
    {
      "cell_type": "markdown",
      "source": [
        "- 전체 데이터 길이 확인"
      ],
      "metadata": {
        "id": "OF62tbeVvrJB"
      }
    },
    {
      "cell_type": "code",
      "source": [
        "# 도미 35개, 빙어 14개\n",
        "print(len(bream_length), len(smelt_length))"
      ],
      "metadata": {
        "colab": {
          "base_uri": "https://localhost:8080/"
        },
        "id": "9y6c4oBIvsjw",
        "outputId": "d43ba230-864d-4926-ae0c-90d41b88aab4"
      },
      "execution_count": 2,
      "outputs": [
        {
          "output_type": "stream",
          "name": "stdout",
          "text": [
            "35 14\n"
          ]
        }
      ]
    },
    {
      "cell_type": "markdown",
      "source": [
        "## 데이터 시각화 "
      ],
      "metadata": {
        "id": "YQbIVubUr-oC"
      }
    },
    {
      "cell_type": "code",
      "source": [
        "import matplotlib.pyplot as plt\n",
        "fig, ax = plt.subplots(figsize=(10, 6))\n",
        "ax.scatter(bream_length, bream_weight)\n",
        "ax.scatter(smelt_length, smelt_weight)\n",
        "ax.set_xlabel('length')\n",
        "ax.set_ylabel('weight')\n",
        "\n",
        "plt.show()"
      ],
      "metadata": {
        "colab": {
          "base_uri": "https://localhost:8080/",
          "height": 388
        },
        "id": "8uJSxWsEr6hZ",
        "outputId": "217250a9-a282-4ab3-f924-933eb4c72c3b"
      },
      "execution_count": 3,
      "outputs": [
        {
          "output_type": "display_data",
          "data": {
            "text/plain": [
              "<Figure size 720x432 with 1 Axes>"
            ],
            "image/png": "[encoded data removed]"
          },
          "metadata": {
            "needs_background": "light"
          }
        }
      ]
    },
    {
      "cell_type": "markdown",
      "source": [
        "- 전체 데이터 만들기"
      ],
      "metadata": {
        "id": "4q5kOaTetSy6"
      }
    },
    {
      "cell_type": "code",
      "source": [
        "length = bream_length + smelt_length \n",
        "weight = bream_weight + smelt_weight\n",
        "\n",
        "print(len(length), len(weight))"
      ],
      "metadata": {
        "colab": {
          "base_uri": "https://localhost:8080/"
        },
        "id": "KRSSsMhTtU1z",
        "outputId": "f4e60ff2-cb89-4edf-e870-083df101ee5d"
      },
      "execution_count": 4,
      "outputs": [
        {
          "output_type": "stream",
          "name": "stdout",
          "text": [
            "49 49\n"
          ]
        }
      ]
    },
    {
      "cell_type": "markdown",
      "source": [
        "### 리스트 컴프리헨션 (List Comprehension) \n",
        "- 반복문(조건문 포함)을 1줄로 처리\n",
        "- 반환값은 리스트"
      ],
      "metadata": {
        "id": "eOVrizQ1t5Pe"
      }
    },
    {
      "cell_type": "code",
      "source": [
        "temp_text = \"humanEdu\"\n",
        "human_letters = []\n",
        "for letter in temp_text:\n",
        "  human_letters.append(letter)\n",
        "\n",
        "print(human_letters)"
      ],
      "metadata": {
        "colab": {
          "base_uri": "https://localhost:8080/"
        },
        "id": "jx1Ibwl2t9-Q",
        "outputId": "0b9c1d4b-3885-4960-c97e-f50cab436dd3"
      },
      "execution_count": 5,
      "outputs": [
        {
          "output_type": "stream",
          "name": "stdout",
          "text": [
            "['h', 'u', 'm', 'a', 'n', 'E', 'd', 'u']\n"
          ]
        }
      ]
    },
    {
      "cell_type": "code",
      "source": [
        "temp_text = \"humanEdu\"\n",
        "human_letters = [letter for letter in temp_text]\n",
        "\n",
        "print(human_letters)"
      ],
      "metadata": {
        "colab": {
          "base_uri": "https://localhost:8080/"
        },
        "id": "DS-IzUXEtukz",
        "outputId": "880a1814-d3ea-4335-9567-846e699c1e3f"
      },
      "execution_count": 6,
      "outputs": [
        {
          "output_type": "stream",
          "name": "stdout",
          "text": [
            "['h', 'u', 'm', 'a', 'n', 'E', 'd', 'u']\n"
          ]
        }
      ]
    },
    {
      "cell_type": "code",
      "source": [
        "fish_data = [[l, w] for l, w in zip(length, weight)]\n",
        "\n",
        "print(fish_data)"
      ],
      "metadata": {
        "colab": {
          "base_uri": "https://localhost:8080/"
        },
        "id": "Wq1CqhT_vBU9",
        "outputId": "b40cd739-0123-4c50-fc43-0c323bcc892d"
      },
      "execution_count": 7,
      "outputs": [
        {
          "output_type": "stream",
          "name": "stdout",
          "text": [
            "[[25.4, 242.0], [26.3, 290.0], [26.5, 340.0], [29.0, 363.0], [29.0, 430.0], [29.7, 450.0], [29.7, 500.0], [30.0, 390.0], [30.0, 450.0], [30.7, 500.0], [31.0, 475.0], [31.0, 500.0], [31.5, 500.0], [32.0, 340.0], [32.0, 600.0], [32.0, 600.0], [33.0, 700.0], [33.0, 700.0], [33.5, 610.0], [33.5, 650.0], [34.0, 575.0], [34.0, 685.0], [34.5, 620.0], [35.0, 680.0], [35.0, 700.0], [35.0, 725.0], [35.0, 720.0], [36.0, 714.0], [36.0, 850.0], [37.0, 1000.0], [38.5, 920.0], [38.5, 955.0], [39.5, 925.0], [41.0, 975.0], [41.0, 950.0], [9.8, 6.7], [10.5, 7.5], [10.6, 7.0], [11.0, 9.7], [11.2, 9.8], [11.3, 8.7], [11.8, 10.0], [11.8, 9.9], [12.0, 9.8], [12.2, 12.2], [12.4, 13.4], [13.0, 12.2], [14.3, 19.7], [15.0, 19.9]]\n"
          ]
        }
      ]
    },
    {
      "cell_type": "markdown",
      "source": [
        "- 지도학습은 라벨이 필요하다. \n",
        "--> 종속변수, 타겟변수 (Response Variable, Dependent Variable)"
      ],
      "metadata": {
        "id": "6g1yTdjdvU-V"
      }
    },
    {
      "cell_type": "code",
      "source": [
        "# 도미 35개 1로 표시\n",
        "# 빙어 14개 0로 표시\n",
        "fish_target = [1] * 35 + [0] * 14\n",
        "print(fish_target)"
      ],
      "metadata": {
        "colab": {
          "base_uri": "https://localhost:8080/"
        },
        "id": "ZsAL-3FrvpeH",
        "outputId": "8fef52ab-f1fc-46c2-95de-47634512d9bb"
      },
      "execution_count": 8,
      "outputs": [
        {
          "output_type": "stream",
          "name": "stdout",
          "text": [
            "[1, 1, 1, 1, 1, 1, 1, 1, 1, 1, 1, 1, 1, 1, 1, 1, 1, 1, 1, 1, 1, 1, 1, 1, 1, 1, 1, 1, 1, 1, 1, 1, 1, 1, 1, 0, 0, 0, 0, 0, 0, 0, 0, 0, 0, 0, 0, 0, 0]\n"
          ]
        }
      ]
    },
    {
      "cell_type": "markdown",
      "source": [
        "## 머신러닝 모형 구현\n",
        "- KNN 구현"
      ],
      "metadata": {
        "id": "i4WoKtynttc_"
      }
    },
    {
      "cell_type": "code",
      "source": [
        "from sklearn.neighbors import KNeighborsClassifier \n",
        "\n",
        "# 모형 불러오기\n",
        "kn = KNeighborsClassifier()\n",
        "\n",
        "# 모형 학습\n",
        "kn.fit(fish_data, fish_target)"
      ],
      "metadata": {
        "colab": {
          "base_uri": "https://localhost:8080/"
        },
        "id": "JkgXvTMswU1w",
        "outputId": "b625553b-6cfd-47a3-e9d7-d852a37584a9"
      },
      "execution_count": 9,
      "outputs": [
        {
          "output_type": "execute_result",
          "data": {
            "text/plain": [
              "KNeighborsClassifier()"
            ]
          },
          "metadata": {},
          "execution_count": 9
        }
      ]
    },
    {
      "cell_type": "code",
      "source": [
        "# 모형 평가\n",
        "# 1.0의미 ==> 100% 정확도\n",
        "kn.score(fish_data, fish_target)"
      ],
      "metadata": {
        "colab": {
          "base_uri": "https://localhost:8080/"
        },
        "id": "Y-IDI9OAz4Tw",
        "outputId": "22fc5790-8f0a-4a63-e666-5c595a51b859"
      },
      "execution_count": 10,
      "outputs": [
        {
          "output_type": "execute_result",
          "data": {
            "text/plain": [
              "1.0"
            ]
          },
          "metadata": {},
          "execution_count": 10
        }
      ]
    },
    {
      "cell_type": "code",
      "source": [
        "# 예측 (= 배포)\n",
        "new_data = [[30, 600]]\n",
        "kn.predict(new_data) # 도미로 예측함"
      ],
      "metadata": {
        "colab": {
          "base_uri": "https://localhost:8080/"
        },
        "id": "TVN4c6IA0Jyl",
        "outputId": "474c183a-0016-41a7-f323-879a92db603c"
      },
      "execution_count": 11,
      "outputs": [
        {
          "output_type": "execute_result",
          "data": {
            "text/plain": [
              "array([1])"
            ]
          },
          "metadata": {},
          "execution_count": 11
        }
      ]
    },
    {
      "cell_type": "code",
      "source": [
        "import matplotlib.pyplot as plt\n",
        "fig, ax = plt.subplots(figsize=(10, 6))\n",
        "ax.scatter(bream_length, bream_weight)\n",
        "ax.scatter(smelt_length, smelt_weight)\n",
        "ax.scatter(30, 600, marker = '^')\n",
        "ax.set_xlabel('length')\n",
        "ax.set_ylabel('weight')\n",
        "\n",
        "plt.show()"
      ],
      "metadata": {
        "colab": {
          "base_uri": "https://localhost:8080/",
          "height": 388
        },
        "id": "2nywAh4U0_2Y",
        "outputId": "553a1ebe-68c7-4c39-b329-8b7962ae097d"
      },
      "execution_count": 12,
      "outputs": [
        {
          "output_type": "display_data",
          "data": {
            "text/plain": [
              "<Figure size 720x432 with 1 Axes>"
            ],
            "image/png": "[encoded data removed]"
          },
          "metadata": {
            "needs_background": "light"
          }
        }
      ]
    },
    {
      "cell_type": "markdown",
      "source": [],
      "metadata": {
        "id": "_YN5EzuP0GPh"
      }
    },
    {
      "cell_type": "code",
      "source": [
        "from sklearn.neighbors import KNeighborsClassifier \n",
        "\n",
        "# 모형 불러오기\n",
        "kn = KNeighborsClassifier(n_neighbors = 17)\n",
        "\n",
        "# 모형 학습\n",
        "kn.fit(fish_data, fish_target)\n",
        "\n",
        "# 모형 평가\n",
        "# 0.71의미 ==> 71% 정확도\n",
        "kn.score(fish_data, fish_target)"
      ],
      "metadata": {
        "colab": {
          "base_uri": "https://localhost:8080/"
        },
        "id": "0V-SYEntzK2o",
        "outputId": "513de3db-7f6e-4d74-a0fa-617ec0f0101a"
      },
      "execution_count": 21,
      "outputs": [
        {
          "output_type": "execute_result",
          "data": {
            "text/plain": [
              "1.0"
            ]
          },
          "metadata": {},
          "execution_count": 21
        }
      ]
    },
    {
      "cell_type": "code",
      "source": [
        "for n in range(5, 50):\n",
        "  # 최근접 이웃 개수 설정\n",
        "  kn.n_neighbors = n\n",
        "\n",
        "  # 스코어 계산\n",
        "  score = kn.score(fish_data, fish_target)\n",
        "\n",
        "  # 1.0에 미치지 못하는 이웃 개수 경계선 구하기\n",
        "  if score < 1:\n",
        "    print(n, score)\n",
        "    break"
      ],
      "metadata": {
        "colab": {
          "base_uri": "https://localhost:8080/"
        },
        "id": "0lxnIHTXTMwJ",
        "outputId": "163d5449-8771-4aac-a531-e2f5738f64d2"
      },
      "execution_count": 25,
      "outputs": [
        {
          "output_type": "stream",
          "name": "stdout",
          "text": [
            "18 0.9795918367346939\n"
          ]
        }
      ]
    },
    {
      "cell_type": "markdown",
      "source": [
        "## 머신러닝 중요 메서드\n",
        "- fit() : 훈련시 사용하는 메서드, 두개의 데이터가 들어감. \n",
        "  + 독립변수 : fish_data (길이, 몸무게)\n",
        "  + 종속변수 : fish_target\n",
        "\n",
        "- predict() : 예측할 때 사용\n",
        "  + 새로운 데이터 : 독립변수만 추가\n",
        "\n",
        "- score() : 모형의 성능 평가\n",
        "  + 실전 : 평가지표 함수를 사용!"
      ],
      "metadata": {
        "id": "UXIwYZqdUnxF"
      }
    },
    {
      "cell_type": "markdown",
      "source": [
        "## 훈련 세트와 테스트 세트\n",
        "- 기존 모델의 문제점\n",
        "- 예측값, 평가지표 산출 시, 100% \n",
        "- 훈련 세트 : 훈련 시에 사용되는 데이터\n",
        "- 테스트 세트 : 평가 시에 사용되는 데이터\n"
      ],
      "metadata": {
        "id": "62WdSbQCWKE4"
      }
    },
    {
      "cell_type": "code",
      "source": [
        "fish_data[:5]"
      ],
      "metadata": {
        "colab": {
          "base_uri": "https://localhost:8080/"
        },
        "id": "VeI47VNxYIJ4",
        "outputId": "8b493b27-15e3-4ed9-f241-3b4e5ed4cb96"
      },
      "execution_count": 26,
      "outputs": [
        {
          "output_type": "execute_result",
          "data": {
            "text/plain": [
              "[[25.4, 242.0], [26.3, 290.0], [26.5, 340.0], [29.0, 363.0], [29.0, 430.0]]"
            ]
          },
          "metadata": {},
          "execution_count": 26
        }
      ]
    },
    {
      "cell_type": "code",
      "source": [
        "fish_data[44:]"
      ],
      "metadata": {
        "colab": {
          "base_uri": "https://localhost:8080/"
        },
        "id": "x4iyNofcYMBw",
        "outputId": "2bd9d97c-cb9b-4293-99de-09c8322d9634"
      },
      "execution_count": 27,
      "outputs": [
        {
          "output_type": "execute_result",
          "data": {
            "text/plain": [
              "[[12.2, 12.2], [12.4, 13.4], [13.0, 12.2], [14.3, 19.7], [15.0, 19.9]]"
            ]
          },
          "metadata": {},
          "execution_count": 27
        }
      ]
    },
    {
      "cell_type": "code",
      "source": [
        "train_input"
      ],
      "metadata": {
        "id": "YWndnm74YRDV"
      },
      "execution_count": null,
      "outputs": []
    }
  ]
}