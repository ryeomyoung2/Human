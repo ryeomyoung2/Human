{
 "cells": [
  {
   "cell_type": "code",
   "execution_count": 1,
   "id": "3dad10a3-5cd3-495f-ada6-867d5f9012c0",
   "metadata": {},
   "outputs": [],
   "source": [
    "import pandas as pd\n",
    "from sklearn.datasets import load_iris\n",
    "import matplotlib.pyplot as plt\n",
    "from sklearn.model_selection import train_test_split\n",
    "from sklearn.tree import DecisionTreeClassifier\n",
    "from sklearn.neural_network import MLPClassifier\n",
    "from sklearn.preprocessing import scale\n",
    "\n",
    "global df\n",
    "df = pd.DataFrame(index=range(0,0), columns=['이름', '국어', '수학', '물리', '세계사', '분류'])\n",
    "\n",
    "#오늘의 과제\n",
    "#1)학생의 성적을 받는 로직 구현 (use dataFrame)\n",
    "#2)학생의 성적을 토대로 분류 모델 머신러닝 구현 (use Classifier)\n",
    "\n",
    "#3)문과 학생 점수와 이과 학생의 각 과목 점수가 어느쪽이 높은지 출력하시오\n"
   ]
  },
  {
   "cell_type": "code",
   "execution_count": 2,
   "id": "a6a2e287-63ff-4312-9667-d8ff82ad9177",
   "metadata": {},
   "outputs": [],
   "source": [
    "def gradeCompare() :\n",
    "    global df\n",
    "    #문과 학생 튜플 데이터프레임과 평균값을 추력\n",
    "    lib_df = df[df.분류 == '문과']\n",
    "    lib_avg = lib_df.mean(axis='rows', numeric_only=True)\n",
    "    #이과 학생 튜플 데이터프레임과 평균값을 추력\n",
    "    sci_df= df[df['분류'] == '이과']\n",
    "    sci_avg = sci_df.mean(axis='rows', numeric_only=True)\n",
    "    #문과 이과 점수를 컬럼마다 각각 비교\n",
    "    count = 0\n",
    "    for i in lib_avg :\n",
    "        if lib_avg[count] > sci_avg[count] :\n",
    "            print('문과가 ', lib_avg[count] - sci_avg[count], ' 만큼 더 높습니다')\n",
    "        else :\n",
    "            print('이과가 ', sci_avg[count] - lib_avg[count], ' 만큼 더 높습니다')\n",
    "        count = count + 1\n",
    "\n",
    "def insert() :\n",
    "    global df\n",
    "    name = input('이름을 작성하시오')\n",
    "    motherTongue = input('국어 성적을 입력하시오')\n",
    "    math = input('수학 성적을 입력하시오')\n",
    "    physic = input('물리 성적을 입력하시오')\n",
    "    history = input('세계사 성적을 입력하시오')\n",
    "    category = input('분류를 작성하시오')\n",
    "    df.loc[len(df)] = [name, motherTongue, math, physic, history, category]\n",
    "\n",
    "def info() :\n",
    "    global df\n",
    "    print(df)\n",
    "\n",
    "def saveCSV() :\n",
    "    global df\n",
    "    df.to_csv('./studentGrade.csv', index=False)\n",
    "\n",
    "def loadCSV() :\n",
    "    global df\n",
    "    file_path = './studentGrade.csv'\n",
    "    df = pd.read_csv(file_path)\n",
    "    \n",
    "#결손값, 이상치 데이터를 직관적으로 찾기 위해서\n",
    "#pie, bar, line, area, box\n",
    "def viewGraph() :\n",
    "    global df\n",
    "    plt.boxplot(df.세계사[:], vert=False)\n",
    "\n",
    "def avgTest() :\n",
    "    global df\n",
    "    avg = df.mean(axis='rows', numeric_only=True)\n",
    "    count = 1\n",
    "    choice = 0\n",
    "    print(df.iloc[0, df['수학']])\n",
    "    for i in range(len(df.index)) :\n",
    "        print(choice)\n",
    "        print(len(df.index))\n",
    "        \n",
    "        if df.iloc[choice, df['수학']] + df.iloc[choice, df['과학']] >  df.iloc[choice, df['국어']] + df.iloc[choice, df['세계사']] :\n",
    "            print(\"check\")\n",
    "        choice = choice + 1\n",
    "        \n",
    "    \n",
    "#     for i in avg :\n",
    "#         df.loc[df.iloc[:,count] > 100, df.columns[count]] = round(i)\n",
    "#         df.loc[df.iloc[:,count] < 0, df.columns[count]] = round(i)\n",
    "#         count = count + 1\n",
    "    "
   ]
  },
  {
   "cell_type": "code",
   "execution_count": 33,
   "id": "0bd8a6e1-3ff4-44ea-b93c-9115120111e4",
   "metadata": {},
   "outputs": [
    {
     "name": "stdout",
     "output_type": "stream",
     "text": [
      "문과가  54.0  만큼 더 높습니다\n",
      "이과가  39.33333333333333  만큼 더 높습니다\n",
      "이과가  26.250000000000004  만큼 더 높습니다\n",
      "문과가  46.0  만큼 더 높습니다\n"
     ]
    },
    {
     "name": "stdin",
     "output_type": "stream",
     "text": [
      "학생 성적을 입력하시겠습니까? (y) 혹은 끝내겠습니까? \n"
     ]
    },
    {
     "name": "stdout",
     "output_type": "stream",
     "text": [
      "      이름  국어  수학  물리  세계사  분류\n",
      "0    김준석  10  50  50   10  이과\n",
      "1    박준석  14  60  40   20  이과\n",
      "2    이준석  50  30  40   80  문과\n",
      "3    소준석  70  10  40   50  문과\n",
      "4    대준석  99   1   2   60  문과\n",
      "..   ...  ..  ..  ..  ...  ..\n",
      "163  박준석  13  64  40   20  이과\n",
      "164  이준석  54  33  40   80  문과\n",
      "165  소준석  75  12  48   50  문과\n",
      "166  대준석  96  11   2   60  문과\n",
      "167  나준석  37  54  79   20  이과\n",
      "\n",
      "[168 rows x 6 columns]\n"
     ]
    }
   ],
   "source": [
    "#데이터 입출력\n",
    "loadCSV()\n",
    "gradeCompare()\n",
    "avgTest()\n",
    "while True:\n",
    "    choice = input('학생 성적을 입력하시겠습니까? (y) 혹은 끝내겠습니까?')\n",
    "    if choice == 'y': \n",
    "        insert()\n",
    "    else :\n",
    "        info()\n",
    "        saveCSV()\n",
    "        break"
   ]
  },
  {
   "cell_type": "code",
   "execution_count": null,
   "id": "2ee79abc-1114-4243-afbd-ef83c540e7f2",
   "metadata": {},
   "outputs": [
    {
     "name": "stdout",
     "output_type": "stream",
     "text": [
      "    이름  국어  수학  물리  세계사\n",
      "0  김준석  10  50  50   10\n",
      "1  박준석  14  60  40   20\n",
      "2  이준석  50  30  40   80\n",
      "3  소준석  70  10  40   50\n",
      "4  대준석  99   1   2   60\n"
     ]
    },
    {
     "data": {
      "text/plain": [
       "array([[-1.22222879,  0.65933783,  0.38201797, -1.23022556],\n",
       "       [-1.09098275,  1.12203104, -0.09303028, -0.83015221],\n",
       "       [ 0.09023166, -0.2660486 , -0.09303028,  1.57028791],\n",
       "       [ 0.74646188, -1.19143502, -0.09303028,  0.37006785],\n",
       "       [ 1.6979957 , -1.60785892, -1.89821364,  0.77014121]])"
      ]
     },
     "execution_count": 18,
     "metadata": {},
     "output_type": "execute_result"
    }
   ],
   "source": [
    "#머신러닝 변수구간 만들기\n",
    "X = df.iloc[:, 1:-1]\n",
    "y = df.iloc[:, -1]\n",
    "print(df.iloc[:5, :-1]) #48.6 <> \n",
    "\n",
    "#표준편차 : 평균에서 얼마나 떨어져 있는지를 절대값으로 표현\n",
    "#*절대값 : 양수로 계산된 떨어진 범위 (음,양수를 모두 양수로 표현)\n",
    "scaledTest = scale(X)\n",
    "scaledTest[:5, :]\n",
    "\n",
    "# scaledTest.mean(axis=0)"
   ]
  },
  {
   "cell_type": "code",
   "execution_count": null,
   "id": "3bfeedeb-5aa7-4f03-ae68-18026665bbae",
   "metadata": {},
   "outputs": [
    {
     "data": {
      "text/html": [
       "<div>\n",
       "<style scoped>\n",
       "    .dataframe tbody tr th:only-of-type {\n",
       "        vertical-align: middle;\n",
       "    }\n",
       "\n",
       "    .dataframe tbody tr th {\n",
       "        vertical-align: top;\n",
       "    }\n",
       "\n",
       "    .dataframe thead th {\n",
       "        text-align: right;\n",
       "    }\n",
       "</style>\n",
       "<table border=\"1\" class=\"dataframe\">\n",
       "  <thead>\n",
       "    <tr style=\"text-align: right;\">\n",
       "      <th>col_0</th>\n",
       "      <th>문과</th>\n",
       "      <th>이과</th>\n",
       "    </tr>\n",
       "    <tr>\n",
       "      <th>분류</th>\n",
       "      <th></th>\n",
       "      <th></th>\n",
       "    </tr>\n",
       "  </thead>\n",
       "  <tbody>\n",
       "    <tr>\n",
       "      <th>문과</th>\n",
       "      <td>20</td>\n",
       "      <td>0</td>\n",
       "    </tr>\n",
       "    <tr>\n",
       "      <th>이과</th>\n",
       "      <td>0</td>\n",
       "      <td>22</td>\n",
       "    </tr>\n",
       "  </tbody>\n",
       "</table>\n",
       "</div>"
      ],
      "text/plain": [
       "col_0  문과  이과\n",
       "분류           \n",
       "문과     20   0\n",
       "이과      0  22"
      ]
     },
     "execution_count": 5,
     "metadata": {},
     "output_type": "execute_result"
    }
   ],
   "source": [
    "#학습용 모델링 만들기\n",
    "train_X, test_X, train_y, test_y = train_test_split(X, y, test_size=0.25, random_state=1)\n",
    "\n",
    "#DecisionTreeClassifier 알고리즘으로 모델 형태 만들기\n",
    "dt_model = DecisionTreeClassifier(random_state = 1)\n",
    "#학습진행\n",
    "dt_model.fit(train_X, train_y)\n",
    "#검증진행\n",
    "dt_model.predict(test_X)\n",
    "dt_pred_y = dt_model.predict(test_X)\n",
    "#테이블 모형으로 예측결과 출력하기\n",
    "pd.crosstab(test_y, dt_pred_y)"
   ]
  },
  {
   "cell_type": "code",
   "execution_count": null,
   "id": "0b59295e-c31f-42bb-a723-07c1b2a66cd2",
   "metadata": {},
   "outputs": [
    {
     "data": {
      "text/html": [
       "<div>\n",
       "<style scoped>\n",
       "    .dataframe tbody tr th:only-of-type {\n",
       "        vertical-align: middle;\n",
       "    }\n",
       "\n",
       "    .dataframe tbody tr th {\n",
       "        vertical-align: top;\n",
       "    }\n",
       "\n",
       "    .dataframe thead th {\n",
       "        text-align: right;\n",
       "    }\n",
       "</style>\n",
       "<table border=\"1\" class=\"dataframe\">\n",
       "  <thead>\n",
       "    <tr style=\"text-align: right;\">\n",
       "      <th>col_0</th>\n",
       "      <th>문과</th>\n",
       "      <th>이과</th>\n",
       "    </tr>\n",
       "    <tr>\n",
       "      <th>분류</th>\n",
       "      <th></th>\n",
       "      <th></th>\n",
       "    </tr>\n",
       "  </thead>\n",
       "  <tbody>\n",
       "    <tr>\n",
       "      <th>문과</th>\n",
       "      <td>20</td>\n",
       "      <td>0</td>\n",
       "    </tr>\n",
       "    <tr>\n",
       "      <th>이과</th>\n",
       "      <td>0</td>\n",
       "      <td>22</td>\n",
       "    </tr>\n",
       "  </tbody>\n",
       "</table>\n",
       "</div>"
      ],
      "text/plain": [
       "col_0  문과  이과\n",
       "분류           \n",
       "문과     20   0\n",
       "이과      0  22"
      ]
     },
     "execution_count": 6,
     "metadata": {},
     "output_type": "execute_result"
    }
   ],
   "source": [
    "#MLPClassifier 알고리즘 모델 형태 만들기\n",
    "mlp_model = MLPClassifier(hidden_layer_sizes=(100,200,50,20), \n",
    "                          max_iter=500, random_state=1)\n",
    "mlp_model.fit(train_X, train_y)\n",
    "mlp_pred_y = mlp_model.predict(test_X)\n",
    "pd.crosstab(test_y, mlp_pred_y)"
   ]
  },
  {
   "cell_type": "code",
   "execution_count": null,
   "id": "5702ef50-ccbc-4b2a-a353-7ecb0d783591",
   "metadata": {},
   "outputs": [
    {
     "data": {
      "text/plain": [
       "1.0"
      ]
     },
     "execution_count": 7,
     "metadata": {},
     "output_type": "execute_result"
    }
   ],
   "source": [
    "# mlp_model.score(test_X, test_y)\n",
    "mlp_model.score(train_X, train_y)"
   ]
  },
  {
   "cell_type": "code",
   "execution_count": null,
   "id": "353b52b2-1792-4a96-bfa9-6a2021aa6263",
   "metadata": {},
   "outputs": [
    {
     "ename": "NameError",
     "evalue": "name 'iris' is not defined",
     "output_type": "error",
     "traceback": [
      "\u001b[1;31m---------------------------------------------------------------------------\u001b[0m",
      "\u001b[1;31mNameError\u001b[0m                                 Traceback (most recent call last)",
      "Input \u001b[1;32mIn [8]\u001b[0m, in \u001b[0;36m<cell line: 1>\u001b[1;34m()\u001b[0m\n\u001b[1;32m----> 1\u001b[0m df \u001b[38;5;241m=\u001b[39m pd\u001b[38;5;241m.\u001b[39mDataFrame(\u001b[43miris\u001b[49m\u001b[38;5;241m.\u001b[39mdata, columns\u001b[38;5;241m=\u001b[39miris\u001b[38;5;241m.\u001b[39mfeature_names)\n\u001b[0;32m      2\u001b[0m sy \u001b[38;5;241m=\u001b[39m pd\u001b[38;5;241m.\u001b[39mSeries(iris\u001b[38;5;241m.\u001b[39mtarget, dtype\u001b[38;5;241m=\u001b[39m\u001b[38;5;124m\"\u001b[39m\u001b[38;5;124mcategory\u001b[39m\u001b[38;5;124m\"\u001b[39m)\n\u001b[0;32m      3\u001b[0m sy \u001b[38;5;241m=\u001b[39m sy\u001b[38;5;241m.\u001b[39mcat\u001b[38;5;241m.\u001b[39mrename_categories(iris\u001b[38;5;241m.\u001b[39mtarget_names)\n",
      "\u001b[1;31mNameError\u001b[0m: name 'iris' is not defined"
     ]
    }
   ],
   "source": [
    "df = pd.DataFrame(iris.data, columns=iris.feature_names)\n",
    "sy = pd.Series(iris.target, dtype=\"category\")\n",
    "sy = sy.cat.rename_categories(iris.target_names)\n",
    "# print(sy)\n",
    "df['species'] = sy\n",
    "sns.pairplot(df, hue=\"species\")\n",
    "plt.show()"
   ]
  },
  {
   "cell_type": "code",
   "execution_count": null,
   "id": "7d6ee083-f100-4f4d-98b4-d830928df39a",
   "metadata": {},
   "outputs": [],
   "source": [
    "151\n",
    " 32\n",
    "183"
   ]
  }
 ],
 "metadata": {
  "kernelspec": {
   "display_name": "Python 3 (ipykernel)",
   "language": "python",
   "name": "python3"
  },
  "language_info": {
   "codemirror_mode": {
    "name": "ipython",
    "version": 3
   },
   "file_extension": ".py",
   "mimetype": "text/x-python",
   "name": "python",
   "nbconvert_exporter": "python",
   "pygments_lexer": "ipython3",
   "version": "3.9.0"
  }
 },
 "nbformat": 4,
 "nbformat_minor": 5
}
