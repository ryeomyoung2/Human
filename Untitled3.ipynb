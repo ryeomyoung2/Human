{
  "nbformat": 4,
  "nbformat_minor": 0,
  "metadata": {
    "colab": {
      "provenance": []
    },
    "kernelspec": {
      "name": "python3",
      "display_name": "Python 3"
    },
    "language_info": {
      "name": "python"
    }
  },
  "cells": [
    {
      "cell_type": "code",
      "execution_count": null,
      "metadata": {
        "id": "VG4CpZWJBFsv"
      },
      "outputs": [],
      "source": [
        "ㅇㄴㅁㅇㅁㄴㅇ"
      ]
    },
    {
      "cell_type": "code",
      "source": [
        "ㅁㄴㅇㄴㅁㅇㄴㅁㅇ"
      ],
      "metadata": {
        "id": "wQb5tZSoBGl8"
      },
      "execution_count": null,
      "outputs": []
    }
  ]
}