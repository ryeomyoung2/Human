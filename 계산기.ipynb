{
 "cells": [
  {
   "cell_type": "code",
   "execution_count": 30,
   "id": "d32e660b-15f0-41c6-af5a-2f2fa5d1627c",
   "metadata": {},
   "outputs": [],
   "source": [
    "#계산기 로그 남기기\n",
    "#1.날짜를 자동으로 생성해주는 메서드를 사용하여\n",
    "#funcInsert메서드에 활용\n",
    "#2.계산하는 메서드를 만들고, 계산내용(log)을 funcInsert와 \n",
    "#연동할 수 있는 아이디어를\n",
    "#생각하고 구현하시오\n",
    "import pandas as pd\n",
    "import datetime"
   ]
  },
  {
   "cell_type": "code",
   "execution_count": 64,
   "id": "2bab8fd2-3699-4cb9-a2f4-a39f99d7d487",
   "metadata": {},
   "outputs": [
    {
     "name": "stdout",
     "output_type": "stream",
     "text": [
      "     log      date\n",
      "0  20*20  20221012\n"
     ]
    }
   ],
   "source": [
    "exam_data={'log':['20*20'],\n",
    "          'date':['20221012']\n",
    "          }\n",
    "global df\n",
    "df=pd.DataFrame(exam_data)\n",
    "print(df)\n",
    "\n",
    "# num1=10\n",
    "# num2=20\n",
    "#*str:숫자를 문자열로 바꾸는 메서드\n",
    "# print(str(num1),'+',str(num2))"
   ]
  },
  {
   "cell_type": "code",
   "execution_count": 53,
   "id": "123d925f-1ce9-4ca5-b74c-b4ec7a02a9f5",
   "metadata": {},
   "outputs": [],
   "source": [
    "#메서드 잘 만드는법\n",
    "#메서드의 기능은 단순(심플)하게, 그리고 정의를 정확하게\n",
    "def funcInsert(input_log) :\n",
    "    global df\n",
    "    df.loc[len(df)]=[input_log, str(datetime.datetime.now())]\n",
    "\n",
    "#계산하는 메서드\n",
    "#return 메서드를 실행하고 마지막에 결과물을 반환\n",
    "def funcPlus(input_num1, input_num2):\n",
    "    strResult=str(input_num1)+ '+' +str(input_num2)\n",
    "    return strResult\n",
    "\n",
    "#날짜 만드는 메서드\n",
    "# print(type(str(datetime.datetime.now())))"
   ]
  },
  {
   "cell_type": "code",
   "execution_count": null,
   "id": "96c7e82b-d54f-446d-8187-d3dff1d92054",
   "metadata": {},
   "outputs": [],
   "source": []
  },
  {
   "cell_type": "code",
   "execution_count": 62,
   "id": "f0444fea-2044-488b-b61e-f560824b0a5a",
   "metadata": {},
   "outputs": [],
   "source": [
    "\n",
    "funcInsert(funcPlus(50,60))"
   ]
  },
  {
   "cell_type": "code",
   "execution_count": 63,
   "id": "6682d42e-9737-4406-a4e4-1bd8dd9977e3",
   "metadata": {},
   "outputs": [
    {
     "name": "stdout",
     "output_type": "stream",
     "text": [
      "      log                        date\n",
      "0   20*20                    20221012\n",
      "1   40*40                    20221012\n",
      "2   40*40                    20221012\n",
      "3   40*40                    20221012\n",
      "4   40*40                    20221012\n",
      "5   40*40                    20221012\n",
      "6   40*40                    20221012\n",
      "7   40*40                    20221012\n",
      "8   40*40                    20221012\n",
      "9   40*40                    20221012\n",
      "10  40*40                    20221012\n",
      "11  40*40  2022-10-12 11:11:31.249877\n",
      "12  20+50  2022-10-12 11:14:23.281996\n",
      "13  30+50  2022-10-12 11:14:49.135048\n",
      "14  30+50  2022-10-12 11:16:18.265118\n",
      "15  50+60  2022-10-12 11:16:37.895825\n",
      "16  50+60  2022-10-12 11:16:39.223537\n"
     ]
    }
   ],
   "source": [
    "print(df)"
   ]
  },
  {
   "cell_type": "code",
   "execution_count": null,
   "id": "71a47683-ee5f-4405-a98a-2f46abfbabe5",
   "metadata": {},
   "outputs": [],
   "source": [
    "#계산기 만들기"
   ]
  }
 ],
 "metadata": {
  "kernelspec": {
   "display_name": "Python 3 (ipykernel)",
   "language": "python",
   "name": "python3"
  },
  "language_info": {
   "codemirror_mode": {
    "name": "ipython",
    "version": 3
   },
   "file_extension": ".py",
   "mimetype": "text/x-python",
   "name": "python",
   "nbconvert_exporter": "python",
   "pygments_lexer": "ipython3",
   "version": "3.9.0"
  }
 },
 "nbformat": 4,
 "nbformat_minor": 5
}
